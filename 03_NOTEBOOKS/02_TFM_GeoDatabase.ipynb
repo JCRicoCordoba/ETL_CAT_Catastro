{
 "cells": [
  {
   "cell_type": "markdown",
   "id": "caaea2bd",
   "metadata": {
    "id": "caaea2bd"
   },
   "source": [
    "<h1 id=\"tocheading\">1. CAPÍTULO II. LA GEODATABASE. Data Preparation</h1>\n",
    "<div id=\"toc\"></div>"
   ]
  },
  {
   "cell_type": "code",
   "execution_count": 1,
   "id": "e019eec3",
   "metadata": {
    "id": "e019eec3",
    "outputId": "dbf821e4-0acb-42e2-d4e6-f033e69e2493"
   },
   "outputs": [
    {
     "data": {
      "text/plain": [
       "\"\\n%%javascript\\n$.getScript('https://kmahelona.github.io/ipython_notebook_goodies/ipython_notebook_toc.js')\\n\""
      ]
     },
     "execution_count": 1,
     "metadata": {},
     "output_type": "execute_result"
    }
   ],
   "source": [
    "'''\n",
    "%%javascript\n",
    "$.getScript('https://kmahelona.github.io/ipython_notebook_goodies/ipython_notebook_toc.js')\n",
    "'''"
   ]
  },
  {
   "cell_type": "markdown",
   "id": "6f5ca22c",
   "metadata": {
    "id": "6f5ca22c"
   },
   "source": [
    "En el presente notebook, se describen los procedimientos necesarios para  extraer la información de los ficheros descargados de la **Sede Electrónica de Catastro (SEC)**, preparando la base de datos para el trabajo de consultas.\n",
    "\n",
    "Todo ello con el objetivo de aportar nuevas tablas con información derivada al analista o científico de datos, de forma que se pueda tener un conocimiento más preciso del territorio urbano y sus dinámicas edificatorias."
   ]
  },
  {
   "cell_type": "markdown",
   "id": "556829be",
   "metadata": {
    "id": "556829be"
   },
   "source": [
    "---\n",
    "Como trabajo preliminar se deben haber realizado las siguientes tareas:\n",
    "\n",
    "<div class=\"alert alert-info\">\n",
    "\n",
    "+ Descarga de **ficheros CAT (.gz)** desde la SEC.<br>\n",
    "El fichero con el municipio escogido, al que se le asignará la variable **`archivo_gz`**, se debe haber ubicado en una carpeta a la que designaremos con la variable **`ruta`**\n",
    "\n",
    "+ Descarga de **ficheros de geometría**> desde la SEC.<br>\n",
    "A este fichero se le asignara la variable **`archivo_geom`**, y a su ruta: **`ruta_geom`**\n",
    "\n",
    "+ Haber generado en POSTGRESQL> una database, a la que en el presente notebook asignaremos la variable **`database`**<br>\n",
    "\n",
    "+ Ubicar los ficheros con las tablas de traducción de códigos:\n",
    " - **`T14_71.csv`**\n",
    " - **`T14_105_jc.csv`**\n",
    " - **`T15_428.csv`**<br>\n",
    "\n",
    " en la misma carpeta que el fichero **`.gz`**<br>\n",
    "\n",
    "Para todas estas operaciones se recomienda que las **rutas no sean muy largas**. En este notebook, las rutas utilizadas son:\n",
    "+ **`C:\\Temp`**\n",
    "+ **`C:\\Temp\\geom`** para ficheros de geometría.\n",
    "</div>\n",
    "---\n",
    "\n",
    "\n"
   ]
  },
  {
   "cell_type": "markdown",
   "id": "c0699381",
   "metadata": {
    "id": "c0699381"
   },
   "source": [
    "# 2. Instalación e importación de paquetes."
   ]
  },
  {
   "cell_type": "markdown",
   "id": "eC8-cntyavro",
   "metadata": {
    "id": "eC8-cntyavro"
   },
   "source": [
    " Comando específico de IPython y Jupyter Notebook que se utiliza para mostrar los gráficos dentro de la misma celda del Jupyter Notebook en lugar de abrir una ventana emergente."
   ]
  },
  {
   "cell_type": "code",
   "execution_count": 2,
   "id": "78bf44ff",
   "metadata": {
    "id": "78bf44ff"
   },
   "outputs": [],
   "source": [
    "# Declare inline graphics\n",
    "# para que los gráficos se representen en el notebook por defecto\n",
    "%matplotlib inline"
   ]
  },
  {
   "cell_type": "markdown",
   "id": "btoCPFhdbOXL",
   "metadata": {
    "id": "btoCPFhdbOXL"
   },
   "source": [
    "Se actualizan los paquetes de `Python` a la última versión disponible.<br>\n",
    "No obstante, en caso de problemas, las versiones con las que se ha realizado el presente notebook son:\n",
    "\n",
    "---\n",
    "+ Python: 3.10.10\n",
    "+ Anaconda: conda 23.3.1\n",
    "+ Jupyter Notebooks: 6.5.3\n",
    "+ PostgreSQL: postgres (PostgreSQL) 14.2\n",
    "---\n",
    "+ numpy: 1.24.2\n",
    "+ pandas: 1.5.3\n",
    "+ matplotlib: 3.7.1\n",
    "+ geopandas: 0.13.2\n",
    "+ psycopg2: 2.9.7\n",
    "+ sqlalchemy: 2.0.20\n",
    "---"
   ]
  },
  {
   "cell_type": "code",
   "execution_count": null,
   "id": "eaad2bb2",
   "metadata": {
    "id": "eaad2bb2",
    "outputId": "2745f7e3-4031-49a9-d8b9-90b16f156ec9"
   },
   "outputs": [],
   "source": [
    "# Instalación de los paquetes necesarios\n",
    "\n",
    "'''\n",
    "!pip install --upgrade setuptools\n",
    "!pip install --upgrade psycopg2\n",
    "!pip install --upgrade pygresql\n",
    "!pip install --upgrade sqlalchemy\n",
    "!pip install --upgrade chk\n",
    "!pip install --upgrade geopandas\n",
    "!pip install --upgrade geoalchemy2\n",
    "'''"
   ]
  },
  {
   "cell_type": "markdown",
   "id": "-if1KrehhyOr",
   "metadata": {
    "id": "-if1KrehhyOr"
   },
   "source": [
    "Importamos las librerías:"
   ]
  },
  {
   "cell_type": "code",
   "execution_count": 3,
   "id": "6e0cc2ed",
   "metadata": {
    "id": "6e0cc2ed"
   },
   "outputs": [],
   "source": [
    "import sys\n",
    "import random\n",
    "import numpy as np\n",
    "import pandas as pd\n",
    "import geopandas as gpd\n",
    "import matplotlib.pyplot as plt\n",
    "\n",
    "import warnings\n",
    "import psycopg2\n",
    "from sqlalchemy import create_engine\n",
    "\n",
    "import gzip\n",
    "import io\n",
    "from io import StringIO\n",
    "import pkg_resources\n",
    "import subprocess\n",
    "import datetime"
   ]
  },
  {
   "cell_type": "markdown",
   "id": "6ca7ea61",
   "metadata": {
    "id": "6ca7ea61"
   },
   "source": [
    "Comprobamos las **versiones de los paquetes** especificados, así como la versión de `Python` y la versión de `PostgreSQL` en el sistema.<br>\n",
    "Es útil para verificar la configuración y las dependencias de un entorno de desarrollo."
   ]
  },
  {
   "cell_type": "code",
   "execution_count": 4,
   "id": "97b67098",
   "metadata": {
    "id": "97b67098",
    "outputId": "5112f3f1-c29b-4b10-c0a7-5074e2aeb676"
   },
   "outputs": [
    {
     "name": "stdout",
     "output_type": "stream",
     "text": [
      "sys: No se encontró el paquete\n",
      "random: No se encontró el paquete\n",
      "numpy: 1.24.2\n",
      "pandas: 1.5.3\n",
      "geopandas: 0.13.2\n",
      "matplotlib: 3.7.1\n",
      "warnings: No se encontró el paquete\n",
      "psycopg2: 2.9.7\n",
      "sqlalchemy: 2.0.20\n",
      "gzip: No se encontró el paquete\n",
      "io: No se encontró el paquete\n",
      "Python: 3.10.10\n",
      "PostgreSQL: postgres (PostgreSQL) 14.2\n"
     ]
    }
   ],
   "source": [
    "# Lista de paquetes a verificar\n",
    "paquetes = ['sys','random', 'numpy', 'pandas', 'geopandas', 'matplotlib',\n",
    "            'warnings', 'psycopg2', 'sqlalchemy', 'gzip', 'io']\n",
    "\n",
    "\n",
    "# Obtener y mostrar las versiones de los paquetes\n",
    "for paquete in paquetes:\n",
    "    try:\n",
    "        version = pkg_resources.get_distribution(paquete).version\n",
    "        print(f'{paquete}: {version}')\n",
    "    except pkg_resources.DistributionNotFound:\n",
    "        print(f'{paquete}: No se encontró el paquete')\n",
    "\n",
    "# Consultar la versión de Python\n",
    "python_version = sys.version.split()[0]\n",
    "print(f'Python: {python_version}')\n",
    "\n",
    "# Consultar la versión de PostgreSQL\n",
    "try:\n",
    "    postgres_version = subprocess.check_output(['postgres', '--version'], universal_newlines=True)\n",
    "    print(f'PostgreSQL: {postgres_version.strip()}')\n",
    "except subprocess.CalledProcessError:\n",
    "    print('PostgreSQL: No se encontró PostgreSQL')"
   ]
  },
  {
   "cell_type": "markdown",
   "id": "ODxiuNCZiuXM",
   "metadata": {
    "id": "ODxiuNCZiuXM"
   },
   "source": [
    "**Personalizamos la apariencia y el estilo de las gráficas** generadas con la biblioteca Matplotlib.<br> \n",
    "Cambiamos el tamaño predeterminado de las figuras y establecer el fondo en blanco.<br> \n",
    "Estas personalizaciones afectarán a todas las gráficas que se generen."
   ]
  },
  {
   "cell_type": "code",
   "execution_count": 5,
   "id": "39607ae2",
   "metadata": {
    "id": "39607ae2"
   },
   "outputs": [],
   "source": [
    "# Initialize the plotting space\n",
    "# Carga de un estilo\n",
    "plt.style.use('bmh')\n",
    "\n",
    "# Modificamos parámetros del estilo\n",
    "plt.rcParams['figure.figsize'] = 16, 6;\n",
    "plt.rcParams['figure.facecolor'] = 'white';"
   ]
  },
  {
   "cell_type": "markdown",
   "id": "ex5jMFm4jjOK",
   "metadata": {
    "id": "ex5jMFm4jjOK"
   },
   "source": [
    "Se desactivan las advertencias sólo a efecto de limpieza del notebook.<br>\n",
    "Son ***útiles al proporcionar información sobre el comportamiento del código y prácticas que podrían estar obsoletas***."
   ]
  },
  {
   "cell_type": "code",
   "execution_count": 6,
   "id": "17185fd0",
   "metadata": {
    "id": "17185fd0"
   },
   "outputs": [],
   "source": [
    "# Evitar la aparición de warnings\n",
    "# Ignorar una advertencia específica por su categoría\n",
    "warnings.filterwarnings(\"ignore\", category=DeprecationWarning)"
   ]
  },
  {
   "cell_type": "markdown",
   "id": "56d38e68",
   "metadata": {
    "id": "56d38e68"
   },
   "source": [
    "# 3. Conexión a la Base de Datos."
   ]
  },
  {
   "cell_type": "markdown",
   "id": "tWEmZXNekRRx",
   "metadata": {
    "id": "tWEmZXNekRRx"
   },
   "source": [
    " Establecemos una conexión a una base de datos `PostgreSQL` utilizando los parámetros de conexión proporcionados.<br>"
   ]
  },
  {
   "cell_type": "markdown",
   "id": "Dxr-7Ma7kkqn",
   "metadata": {
    "id": "Dxr-7Ma7kkqn"
   },
   "source": [
    "---\n",
    "Parámetros de Conexión:\n",
    "\n",
    "<div class=\"alert alert-info\">\n",
    "    \n",
    "En su caso, deben declararse las siguientes variables en la siguiente celda:\n",
    "\n",
    "+ **`host`** :\n",
    "Dirección o nombre del servidor de la base de datos PostgreSQL.\n",
    "+ **`pgport`** :\n",
    "Número de puerto en el que PostgreSQL está escuchando. Por lo general, es **5432**.\n",
    "+ **`database`** :\n",
    "Nombre de la base de datos a la que se desea conectar.\n",
    "+ **`user`** :\n",
    "Nombre de usuario para la autenticación.\n",
    "+ **`password`** :\n",
    "Contraseña para la autenticación.\n",
    "+ **`pg_bin_path`** :\n",
    "Ruta al directorio binario de PostgreSQL en el sistema.\n",
    "</div>\n",
    "---"
   ]
  },
  {
   "cell_type": "code",
   "execution_count": 7,
   "id": "41b1ef17",
   "metadata": {
    "id": "41b1ef17",
    "outputId": "96002faa-8048-4102-cc65-961eb3bac047"
   },
   "outputs": [
    {
     "name": "stdout",
     "output_type": "stream",
     "text": [
      "La base de datos cat' se ha conectado con éxito.\n"
     ]
    }
   ],
   "source": [
    "# Parámetros de conexión\n",
    "host = \"localhost\"\n",
    "pgport = 5432\n",
    "database = \"cat\" # database a la que conectarse\n",
    "user = \"postgres\" #owner\n",
    "password = \"postgres\"\n",
    "pg_bin_path = r'c:\\\\PostgreSQL\\\\14\\\\bin'\n",
    "\n",
    "try:\n",
    "    # Conexión a la base de datos PostgreSQL\n",
    "    conexion = psycopg2.connect(\n",
    "        host=host,\n",
    "        database=database,\n",
    "        user=user,\n",
    "        password=password\n",
    "    )\n",
    "\n",
    "    # Crear un cursor\n",
    "    cursor = conexion.cursor()\n",
    "\n",
    "    print(f\"La base de datos {database}' se ha conectado con éxito.\")\n",
    "\n",
    "except (Exception, psycopg2.Error) as error:\n",
    "    print(f\"Error al conectar a la base de datos: '{database}'\", error)"
   ]
  },
  {
   "cell_type": "markdown",
   "id": "72433af3",
   "metadata": {
    "id": "72433af3"
   },
   "source": [
    "# 4. Creación de los esquemas y extensiones."
   ]
  },
  {
   "cell_type": "markdown",
   "id": "GatXbueZzza8",
   "metadata": {
    "id": "GatXbueZzza8"
   },
   "source": [
    "## 4.1. Declaración de las variables a usar en el procesado."
   ]
  },
  {
   "cell_type": "markdown",
   "id": "77pOQlKzsuSo",
   "metadata": {
    "id": "77pOQlKzsuSo"
   },
   "source": [
    "---\n",
    "Se declaran las ubicaciones y nombres de archivos que se utilizarán en el procesado de los datos:\n",
    "\n",
    "<div class=\"alert alert-info\"> \n",
    "    \n",
    "+ **`ruta`** : Ruta donde se va a ubicar el fichero CAT seleccionado de extensión `.gz`\n",
    "    \n",
    "+ **`ruta_geom`** : Ruta donde se va a ubicar el fichero de geometría. El tipo de fichero es `.shp`, aunque en futuras propuestas del script del TFM se pretende operar también con ficheros de tipo `.json`.\n",
    "\n",
    "+ **`archivo_gz`**  :Nombre del Fichero CAT `.gz` descargado de la SEC.\n",
    "\n",
    "+ **`archivo_geom`** : Nombre del fichero de  geometría `.shp`.\n",
    "    \n",
    "+ **`municipio`** : Nombre que se asigna al esquema donde se alojarán las tablas a generar. Se recomienda el nombre del municipio donde se va a realizar la investigación.\n",
    "\n",
    "+ **`tabla_geom`** : Nombre que se asigna a la tabla donde se cargan las geometrías de parcela.\n",
    "    \n",
    "+ **`t15_428_csv`** : **No cambiar**. Nombre asignado al fichero de codificación de los ***Usos de los bienes inmuebles***.\n",
    "    \n",
    "+ **`t14_71_csv`** : **No cambiar**. Nombre asignado al fichero de codificación de las ***Tipologías y Categorías de las construcciones***, según la Norma 20 del Real Decreto 1020/1993 de 25 de junio.\n",
    "    \n",
    "+ **`t14_105_csv`** : **No cambiar**. Nombre asignado al fichero de codificación de lass ***Subcategorías de los Usos para los distintas recintos de los bienes inmuebles***.\n",
    "\n",
    "+ **`current_year`** : Año actual.\n",
    "</div>\n",
    "---"
   ]
  },
  {
   "cell_type": "code",
   "execution_count": 8,
   "id": "5e2886b2",
   "metadata": {
    "id": "5e2886b2"
   },
   "outputs": [],
   "source": [
    "# Definición de las rutas y nombres de archivos\n",
    "ruta = 'c:\\\\Temp\\\\'\n",
    "ruta_geom = 'c:\\\\Temp\\\\geom\\\\'\n",
    "\n",
    "archivo_gz = '14900U_23062023.CAT.gz'\n",
    "archivo_geom = 'PARCELA.SHP'\n",
    "municipio = 'cordoba'\n",
    "tabla_geom = 'parcel' # Nombre que queremos dar a la tabla\n",
    "\n",
    "t15_428_csv = 'T15_428.csv'\n",
    "t14_71_csv = 'T14_71.csv'\n",
    "t14_105_csv = 'T14_105_jc.csv'\n",
    "\n",
    "# Automática\n",
    "current_year=datetime.datetime.now().year"
   ]
  },
  {
   "cell_type": "markdown",
   "id": "Ey9JhkZ6yfII",
   "metadata": {
    "id": "Ey9JhkZ6yfII"
   },
   "source": [
    "## 4.2. Limpieza de la Base de Datos.\n",
    "\n",
    "Se limpian y eliminan las tablas y esquemas prexistentes de la base de datos PostgreSQL, para facilitar el trabajo de procesado."
   ]
  },
  {
   "cell_type": "code",
   "execution_count": 9,
   "id": "f12fa917",
   "metadata": {
    "id": "f12fa917",
    "outputId": "d5a93081-9f94-4383-c20b-c302f80c04f7"
   },
   "outputs": [
    {
     "name": "stdout",
     "output_type": "stream",
     "text": [
      "Tablas eliminadas con éxito.\n",
      "Esquemas eliminados con éxito.\n"
     ]
    }
   ],
   "source": [
    "# ELIMINACIÓN DE TABLAS\n",
    "# Lista de nombres de las tablas a eliminar\n",
    "tablas_a_eliminar = [\"t15\", \"t14\", \"t13\", \"t11\", tabla_geom]\n",
    "tablas_a_eliminar_2 =[\"t15_428\", \"t14_71\", \"t14_105\"]\n",
    "\n",
    "try:\n",
    "    # Itera sobre la lista de tablas y ejecuta DROP TABLE para cada una\n",
    "    for tabla in tablas_a_eliminar:\n",
    "        sql = f\"DROP TABLE IF EXISTS {municipio}.{tabla};\"\n",
    "        cursor.execute(sql)\n",
    "\n",
    "    for tabla in tablas_a_eliminar_2:\n",
    "        sql = f\"DROP TABLE IF EXISTS cod.{tabla};\"\n",
    "        cursor.execute(sql)\n",
    "\n",
    "    # Confirma los cambios\n",
    "    conexion.commit()\n",
    "\n",
    "    print(\"Tablas eliminadas con éxito.\")\n",
    "\n",
    "except (Exception, psycopg2.Error) as error:\n",
    "    print(\"Error al eliminar las tablas:\", error)\n",
    "\n",
    "\n",
    "# ELIMINACIÓN DE ESQUEMAS\n",
    "# Lista de nombres de los esquemas a eliminar\n",
    "esquemas_a_eliminar = [municipio, \"cod\"]\n",
    "\n",
    "try:\n",
    "    # Itera sobre la lista de esquemas y ejecuta DROP SCHEMA para cada uno\n",
    "    for esquema in esquemas_a_eliminar:\n",
    "        sql = f\"DROP SCHEMA IF EXISTS {esquema} CASCADE;\"\n",
    "        cursor.execute(sql)\n",
    "\n",
    "    # Confirma los cambios\n",
    "    conexion.commit()\n",
    "\n",
    "    print(\"Esquemas eliminados con éxito.\")\n",
    "\n",
    "except (Exception, psycopg2.Error) as error:\n",
    "    print(\"Error al eliminar los esquemas:\", error)"
   ]
  },
  {
   "cell_type": "markdown",
   "id": "BftSqsmmzID_",
   "metadata": {
    "id": "BftSqsmmzID_"
   },
   "source": [
    "## 4.3. Creación de los Esquemas(shchemas) de la Base de Datos.\n",
    "Creamos los esquemas de la base de datos PostgreSQL, utilizando la biblioteca `psycopg2`. Esto permitirá organizar y separar objetos de la BBDD en grupos distintos, para gestionar los datos de manera más eficiente y estructurada."
   ]
  },
  {
   "cell_type": "code",
   "execution_count": 10,
   "id": "35ecef19",
   "metadata": {
    "id": "35ecef19",
    "outputId": "fa05eda6-2706-4130-cac3-7bed779feee3"
   },
   "outputs": [
    {
     "name": "stdout",
     "output_type": "stream",
     "text": [
      "Los esquemas 'cod' y 'cordoba' han sido creados con éxito en la base de datos 'cat'\n"
     ]
    }
   ],
   "source": [
    "# CREACIÓN DE LOS ESQUEMAS\n",
    "try:\n",
    "    # Consulta SQL para crear el esquema \"cod\" si no existe\n",
    "    sql_cod = \"CREATE SCHEMA IF NOT EXISTS cod;\"\n",
    "\n",
    "    # Consulta SQL para crear el esquema personalizado si no existe\n",
    "    sql_municipio = f\"CREATE SCHEMA IF NOT EXISTS {municipio};\"\n",
    "\n",
    "    # Ejecutar las consultas\n",
    "    cursor.execute(sql_cod)\n",
    "    cursor.execute(sql_municipio)\n",
    "\n",
    "    # Confirmar los cambios\n",
    "    conexion.commit()\n",
    "\n",
    "    print(f\"Los esquemas 'cod' y '{municipio}' han sido creados con éxito en la base de datos '{database}'\")\n",
    "\n",
    "except (Exception, psycopg2.Error) as error:\n",
    "    print(\"Error al crear los esquemas:\", error)"
   ]
  },
  {
   "cell_type": "markdown",
   "id": "5-9z_t_501HE",
   "metadata": {
    "id": "5-9z_t_501HE"
   },
   "source": [
    "Mostramos los nombres de los esquemas existentes en la base de datos PostgreSQL para confirmar que han sido creados."
   ]
  },
  {
   "cell_type": "code",
   "execution_count": 11,
   "id": "79e67b8f",
   "metadata": {
    "id": "79e67b8f"
   },
   "outputs": [
    {
     "name": "stdout",
     "output_type": "stream",
     "text": [
      "Los esquemas disponibles en la base de datos cordoba son los siguientes:\n",
      "pg_toast\n",
      "pg_catalog\n",
      "public\n",
      "information_schema\n",
      "cod\n",
      "cordoba\n"
     ]
    }
   ],
   "source": [
    "# Listado de los esquemas en la base de datos actualmente conectada\n",
    "try:\n",
    "    # Consulta SQL para listar los esquemas\n",
    "    cursor.execute(\"SELECT schema_name FROM information_schema.schemata;\")\n",
    "\n",
    "    # Obtener los resultados\n",
    "    esquemas = cursor.fetchall()\n",
    "\n",
    "    # Imprimir los nombres de los esquemas\n",
    "    print(f'Los esquemas disponibles en la base de datos {municipio} son los siguientes:')\n",
    "    for esquema in esquemas:\n",
    "        print(esquema[0])\n",
    "\n",
    "except (Exception, psycopg2.Error) as error:\n",
    "    print(f\"Error al listar los esquemas:\", error)"
   ]
  },
  {
   "cell_type": "markdown",
   "id": "1Rz9-NlO0bXD",
   "metadata": {
    "id": "1Rz9-NlO0bXD"
   },
   "source": [
    "## 4.4. Carga de las extensiones necesarias de la Base de Datos.\n",
    "\n",
    "Agregamos funcionalidades adicionales a la base de datos PostgreSQL instalando las extensiones:\n",
    "- **`POSTGIS`**\n",
    "- **`TABLEFUNC`**\n",
    "\n",
    "Estas extensiones son comunes en aplicaciones que requieren **capacidades geoespaciales** o **funcionalidades SQL avanzadas**, tal y como es nuestro caso."
   ]
  },
  {
   "cell_type": "code",
   "execution_count": 12,
   "id": "d7db3c59",
   "metadata": {
    "id": "d7db3c59",
    "outputId": "2bd6cb9b-f7d4-4935-d1b4-287f435d1613"
   },
   "outputs": [
    {
     "name": "stdout",
     "output_type": "stream",
     "text": [
      "Extensiones POSTGIS y TABLEFUNC instaladas correctamente\n"
     ]
    }
   ],
   "source": [
    "# EXTENSIONES\n",
    "try:\n",
    "    # Crear extensión POSTGIS\n",
    "    cursor.execute(\"CREATE EXTENSION IF NOT EXISTS postgis;\")\n",
    "\n",
    "    # Crear extensión tablefunc\n",
    "    cursor.execute(\"CREATE EXTENSION IF NOT EXISTS tablefunc;\")\n",
    "\n",
    "    # Confirmar los cambios\n",
    "    conexion.commit()\n",
    "\n",
    "    print(\"Extensiones POSTGIS y TABLEFUNC instaladas correctamente\")\n",
    "\n",
    "except (Exception, psycopg2.Error) as error:\n",
    "    print(\"Error al instalar las extensiones POSTGIS y tablefunc:\", error)"
   ]
  },
  {
   "cell_type": "markdown",
   "id": "53fc8a0d",
   "metadata": {
    "id": "53fc8a0d"
   },
   "source": [
    "# 5.Tablas de traducción de códigos de Catastro."
   ]
  },
  {
   "cell_type": "markdown",
   "id": "Z3aPFhDn14Zj",
   "metadata": {
    "id": "Z3aPFhDn14Zj"
   },
   "source": [
    "En la siguientes celdas de produce la carga en la base de datos de unas***generadas para el TFM***, con el propósito de traducir los códigos empleados por Catastro en varios de los campos pertenecientes a los rgistros `t15` y `t14`. Por ejemplo:<br>\n",
    "<br>\n",
    "+ ***`CCL`***</font> es un uso **`COMERCIAL`** destinado a **`Calzado`**.\n",
    "+ ***`01123`***</font> es una tipología **`RESIDENCIAL`** de tipo **`VIV COLECTIVA CARACTER URBANO`**, en **`MANZANA CERRADA (VIV PLURIF)`**, de categoría **`3`**."
   ]
  },
  {
   "cell_type": "markdown",
   "id": "SA1hgK-f6F__",
   "metadata": {
    "id": "SA1hgK-f6F__"
   },
   "source": [
    "**Descripción de las tablas**\n",
    "\n",
    "|Tabla|descripción\n",
    "| :- | :------------- |\n",
    "|**`t15_428`**|Codificación de los Usos de los bienes inmuebles.\n",
    "|**`t14_105`**|Codificación de las Subcategorías de los Usos para los distintas recintos de los bienes inmuebles.\n",
    "|**`t14_71`**|Codificación de las Tipologías y Categorías de las construcciones, según la Norma 20 del Real Decreto 1020/1993 de 25 de junio."
   ]
  },
  {
   "cell_type": "markdown",
   "id": "vRLqny487Z--",
   "metadata": {
    "id": "vRLqny487Z--"
   },
   "source": [
    "## 5.1. Tabla `t15_428`. Usos de los BI.\n",
    "Se crea la tabla en la bbdd de PostgreSQL, verificando que se haya creado correctamente y comunicando  si ocurren errores durante el proceso de creación."
   ]
  },
  {
   "cell_type": "code",
   "execution_count": 13,
   "id": "fbb6ebeb",
   "metadata": {
    "id": "fbb6ebeb",
    "outputId": "afe89135-8b76-443c-9187-feb1f845d4d7"
   },
   "outputs": [
    {
     "name": "stdout",
     "output_type": "stream",
     "text": [
      "La tabla 't15_428' se creó con éxito en el esquema 'cod'.\n"
     ]
    }
   ],
   "source": [
    "# Tabla T15_428\n",
    "sql = '''CREATE TABLE IF NOT EXISTS cod.t15_428 (\n",
    "    id15428 serial NOT NULL,\n",
    "    coduso_428 character varying(1),\n",
    "    uso15428 character varying(100),\n",
    "    PRIMARY KEY (id15428)\n",
    ")'''\n",
    "\n",
    "try:\n",
    "    # Ejecutar la consulta SQL para crear la tabla\n",
    "    cursor.execute(sql)\n",
    "\n",
    "    # Confirmar los cambios en la conexión\n",
    "    conexion.commit()\n",
    "\n",
    "    # Verificar que la tabla se haya creado correctamente\n",
    "    cursor.execute(\"SELECT EXISTS (SELECT 1 FROM information_schema.tables WHERE table_schema = 'cod' AND table_name = 't15_428');\")\n",
    "    table_exists = cursor.fetchone()[0]\n",
    "\n",
    "    if table_exists:\n",
    "        print(\"La tabla 't15_428' se creó con éxito en el esquema 'cod'.\")\n",
    "    else:\n",
    "        print(\"La tabla 't15_428' no se creó en el esquema 'cod'.\")\n",
    "\n",
    "except (Exception, psycopg2.Error) as error:\n",
    "    # En caso de error, imprimir el mensaje de error y realizar un rollback para deshacer los cambios\n",
    "    print(\"Error al crear la tabla:\", error)\n",
    "    conexion.rollback()"
   ]
  },
  {
   "cell_type": "markdown",
   "id": "R8G7ER83DXCB",
   "metadata": {
    "id": "R8G7ER83DXCB"
   },
   "source": [
    "Se cargan los datos desde el archivo `t15_428.csv` en la tabla de la bbdd (creada en la celda anterior), utilizando la operación `COPY`."
   ]
  },
  {
   "cell_type": "code",
   "execution_count": 14,
   "id": "eca2135d",
   "metadata": {
    "id": "eca2135d"
   },
   "outputs": [
    {
     "name": "stdout",
     "output_type": "stream",
     "text": [
      "Datos copiados a la tabla 't15_428'\n"
     ]
    }
   ],
   "source": [
    "try:\n",
    "    # Consulta SQL para realizar la operación COPY en la tabla T15_428\n",
    "    sql = f'''COPY cod.t15_428 (coduso_428, uso15428)\n",
    "    FROM '{ruta}{t15_428_csv}'\n",
    "    DELIMITER ';'\n",
    "    CSV HEADER;\n",
    "    '''\n",
    "\n",
    "    # Ejecutar la consulta para cargar los datos\n",
    "    cursor.execute(sql)\n",
    "\n",
    "    # Confirmar los cambios\n",
    "    conexion.commit()\n",
    "\n",
    "    print(\"Datos copiados a la tabla 't15_428'\")\n",
    "\n",
    "except (Exception, psycopg2.Error) as error:\n",
    "    print(\"Error al cargar los datos:\", error)"
   ]
  },
  {
   "cell_type": "markdown",
   "id": "mAFIoOCL7lqj",
   "metadata": {
    "id": "mAFIoOCL7lqj"
   },
   "source": [
    "## 5.2. Tabla `t14_105`.\tSubcategorías de los Usos para los distintos recintos de los B.I.\n",
    "Se crea la tabla en la bbdd de PostgreSQL, verificando que se haya creado correctamente y comunicando  si ocurren errores durante el proceso de creación."
   ]
  },
  {
   "cell_type": "code",
   "execution_count": 15,
   "id": "014fed91",
   "metadata": {
    "id": "014fed91",
    "outputId": "4970f581-72d0-4fc9-dd71-0d1c5901db80"
   },
   "outputs": [
    {
     "name": "stdout",
     "output_type": "stream",
     "text": [
      "La tabla 't14_105' se creó con éxito en el esquema 'cod'.\n"
     ]
    }
   ],
   "source": [
    "try:\n",
    "    # Consulta SQL para crear la tabla T14_105\n",
    "    sql = '''CREATE TABLE IF NOT EXISTS cod.t14_105 (\n",
    "        id14105 serial NOT NULL,\n",
    "        tip_105 character varying(5),\n",
    "        uso1 character varying(25),\n",
    "        tipolog1 character varying(50),\n",
    "        tipolog2 character varying(50),\n",
    "        categ smallint,\n",
    "        categ2 smallint,\n",
    "        coef real,\n",
    "        PRIMARY KEY (id14105)\n",
    "    );'''\n",
    "\n",
    "    # Ejecutar la consulta para crear la tabla\n",
    "    cursor.execute(sql)\n",
    "\n",
    "    # Confirmar los cambios\n",
    "    conexion.commit()\n",
    "\n",
    "    print(\"La tabla 't14_105' se creó con éxito en el esquema 'cod'.\")\n",
    "\n",
    "except (Exception, psycopg2.Error) as error:\n",
    "    print(\"Error al crear la tabla 't14_105':\", error)"
   ]
  },
  {
   "cell_type": "markdown",
   "id": "gatQh4WAD3ke",
   "metadata": {
    "id": "gatQh4WAD3ke"
   },
   "source": [
    "Se cargan los datos desde el archivo `t14_105.csv` en la tabla de la bbdd (creada en la celda anterior), utilizando la operación `COPY`."
   ]
  },
  {
   "cell_type": "code",
   "execution_count": 16,
   "id": "eb637f4a",
   "metadata": {
    "id": "eb637f4a",
    "outputId": "0b194034-1cfb-4a4c-b636-ddcf4eedbc73"
   },
   "outputs": [
    {
     "name": "stdout",
     "output_type": "stream",
     "text": [
      "Datos copiados a la tabla 't14_105'\n"
     ]
    }
   ],
   "source": [
    "try:\n",
    "    # Consulta SQL para realizar la operación COPY en la tabla T14_105\n",
    "    sql = f'''COPY cod.t14_105 (tip_105, uso1, tipolog1, tipolog2, categ, categ2, coef)\n",
    "    FROM '{ruta}{t14_105_csv}'\n",
    "    DELIMITER ';'\n",
    "    CSV HEADER;\n",
    "    '''\n",
    "\n",
    "    # Ejecutar la consulta para realizar la operación COPY\n",
    "    cursor.execute(sql)\n",
    "\n",
    "    # Confirmar los cambios\n",
    "    conexion.commit()\n",
    "\n",
    "    print(\"Datos copiados a la tabla 't14_105'\")\n",
    "\n",
    "except (Exception, psycopg2.Error) as error:\n",
    "    print(\"Error en la operación COPY a 't14_105':\", error)"
   ]
  },
  {
   "cell_type": "markdown",
   "id": "Yme6K5u075-x",
   "metadata": {
    "id": "Yme6K5u075-x"
   },
   "source": [
    "## 5.3. Tabla `t14_71`. Tipologías y Categorías de las construcciones (Recintos de Uso).\n",
    "Se crea la tabla en la bbdd de PostgreSQL, verificando que se haya creado correctamente y comunicando  si ocurren errores durante el proceso de creación."
   ]
  },
  {
   "cell_type": "code",
   "execution_count": 17,
   "id": "486c2bd1",
   "metadata": {
    "id": "486c2bd1",
    "outputId": "1cf425e2-1cbf-4f2b-f977-320d9bdcd81f"
   },
   "outputs": [
    {
     "name": "stdout",
     "output_type": "stream",
     "text": [
      "La tabla 't14_71' se creó con éxito en el esquema 'cod'.\n"
     ]
    }
   ],
   "source": [
    "try:\n",
    "    # Consulta SQL para crear la tabla T14_71\n",
    "    sql_create_table = '''CREATE TABLE IF NOT EXISTS cod.t14_71 (\n",
    "        id1471 serial NOT NULL,\n",
    "        cd_71 character varying(3),\n",
    "        uso_bi character varying(25),\n",
    "        act_71_14 character varying(100),\n",
    "        coduso_bi character varying(1),\n",
    "        PRIMARY KEY (id1471)\n",
    "    );'''\n",
    "\n",
    "    # Ejecutar la consulta para crear la tabla\n",
    "    cursor.execute(sql_create_table)\n",
    "\n",
    "    # Confirmar los cambios\n",
    "    conexion.commit()\n",
    "\n",
    "    print(\"La tabla 't14_71' se creó con éxito en el esquema 'cod'.\")\n",
    "\n",
    "except (Exception, psycopg2.Error) as error:\n",
    "    print(\"Error en la creación de la tabla 't14_71':\", error)"
   ]
  },
  {
   "cell_type": "markdown",
   "id": "vDvaskWED9w7",
   "metadata": {
    "id": "vDvaskWED9w7"
   },
   "source": [
    "Se cargan los datos desde el archivo `t14_71.csv` en la tabla de la bbdd (creada en la celda anterior), utilizando la operación `COPY`."
   ]
  },
  {
   "cell_type": "code",
   "execution_count": 18,
   "id": "fcd60848",
   "metadata": {
    "id": "fcd60848",
    "outputId": "fd91c436-2dd7-44bc-9445-01c0a45b6b78"
   },
   "outputs": [
    {
     "name": "stdout",
     "output_type": "stream",
     "text": [
      "La tabla 't14_71' se creó con éxito en el esquema 'cod'.\n"
     ]
    }
   ],
   "source": [
    "try:\n",
    "    # Consulta SQL para realizar la operación COPY en la tabla T14_71\n",
    "    sql = f'''COPY cod.t14_71 (cd_71, uso_bi, act_71_14, coduso_bi)\n",
    "        FROM '{ruta}{t14_71_csv}'\n",
    "        DELIMITER ','\n",
    "        CSV HEADER;\n",
    "    '''\n",
    "\n",
    "    # Ejecutar la consulta para copiar los datos\n",
    "    cursor.execute(sql)\n",
    "\n",
    "    # Confirmar los cambios\n",
    "    conexion.commit()\n",
    "\n",
    "    print(\"La tabla 't14_71' se creó con éxito en el esquema 'cod'.\")\n",
    "\n",
    "except (Exception, psycopg2.Error) as error:\n",
    "    print(\"Error al copiar los datos a la tabla 't14_71':\", error)"
   ]
  },
  {
   "cell_type": "markdown",
   "id": "voBVWrkdEWLM",
   "metadata": {
    "id": "voBVWrkdEWLM"
   },
   "source": [
    "Realizar una consulta SQL en la base de datos PostgreSQL para cargar los resultados a un `DataFrame` de `Pandas`, al objeto de condirmar nuevamente que los precesos se han efectuado correctamente."
   ]
  },
  {
   "cell_type": "code",
   "execution_count": 19,
   "id": "22bf98a3",
   "metadata": {
    "id": "22bf98a3",
    "outputId": "e713dcfb-f5ce-48c5-db5e-10c6a417e162"
   },
   "outputs": [
    {
     "name": "stderr",
     "output_type": "stream",
     "text": [
      "C:\\Users\\jcric\\AppData\\Local\\Temp\\ipykernel_2952\\3564705939.py:7: UserWarning: pandas only supports SQLAlchemy connectable (engine/connection) or database string URI or sqlite3 DBAPI2 connection. Other DBAPI2 objects are not tested. Please consider using SQLAlchemy.\n",
      "  df = pd.read_sql_query(sql, conexion)\n"
     ]
    },
    {
     "data": {
      "text/html": [
       "<div>\n",
       "<style scoped>\n",
       "    .dataframe tbody tr th:only-of-type {\n",
       "        vertical-align: middle;\n",
       "    }\n",
       "\n",
       "    .dataframe tbody tr th {\n",
       "        vertical-align: top;\n",
       "    }\n",
       "\n",
       "    .dataframe thead th {\n",
       "        text-align: right;\n",
       "    }\n",
       "</style>\n",
       "<table border=\"1\" class=\"dataframe\">\n",
       "  <thead>\n",
       "    <tr style=\"text-align: right;\">\n",
       "      <th></th>\n",
       "      <th>id14105</th>\n",
       "      <th>tip_105</th>\n",
       "      <th>uso1</th>\n",
       "      <th>tipolog1</th>\n",
       "      <th>tipolog2</th>\n",
       "      <th>categ</th>\n",
       "      <th>categ2</th>\n",
       "      <th>coef</th>\n",
       "    </tr>\n",
       "  </thead>\n",
       "  <tbody>\n",
       "    <tr>\n",
       "      <th>0</th>\n",
       "      <td>1</td>\n",
       "      <td>0111</td>\n",
       "      <td>RESIDENCIAL</td>\n",
       "      <td>PLURIFAMILIAR</td>\n",
       "      <td>EDIFICACIÓN ABIERTA</td>\n",
       "      <td>4</td>\n",
       "      <td>7</td>\n",
       "      <td>1.0500</td>\n",
       "    </tr>\n",
       "    <tr>\n",
       "      <th>1</th>\n",
       "      <td>2</td>\n",
       "      <td>0111A</td>\n",
       "      <td>RESIDENCIAL</td>\n",
       "      <td>PLURIFAMILIAR</td>\n",
       "      <td>EDIFICACIÓN ABIERTA</td>\n",
       "      <td>1</td>\n",
       "      <td>1</td>\n",
       "      <td>2.4750</td>\n",
       "    </tr>\n",
       "    <tr>\n",
       "      <th>2</th>\n",
       "      <td>3</td>\n",
       "      <td>0111B</td>\n",
       "      <td>RESIDENCIAL</td>\n",
       "      <td>PLURIFAMILIAR</td>\n",
       "      <td>EDIFICACIÓN ABIERTA</td>\n",
       "      <td>1</td>\n",
       "      <td>2</td>\n",
       "      <td>2.1450</td>\n",
       "    </tr>\n",
       "    <tr>\n",
       "      <th>3</th>\n",
       "      <td>4</td>\n",
       "      <td>0111C</td>\n",
       "      <td>RESIDENCIAL</td>\n",
       "      <td>PLURIFAMILIAR</td>\n",
       "      <td>EDIFICACIÓN ABIERTA</td>\n",
       "      <td>1</td>\n",
       "      <td>3</td>\n",
       "      <td>1.8975</td>\n",
       "    </tr>\n",
       "    <tr>\n",
       "      <th>4</th>\n",
       "      <td>5</td>\n",
       "      <td>01111</td>\n",
       "      <td>RESIDENCIAL</td>\n",
       "      <td>PLURIFAMILIAR</td>\n",
       "      <td>EDIFICACIÓN ABIERTA</td>\n",
       "      <td>1</td>\n",
       "      <td>4</td>\n",
       "      <td>1.6500</td>\n",
       "    </tr>\n",
       "    <tr>\n",
       "      <th>...</th>\n",
       "      <td>...</td>\n",
       "      <td>...</td>\n",
       "      <td>...</td>\n",
       "      <td>...</td>\n",
       "      <td>...</td>\n",
       "      <td>...</td>\n",
       "      <td>...</td>\n",
       "      <td>...</td>\n",
       "    </tr>\n",
       "    <tr>\n",
       "      <th>954</th>\n",
       "      <td>955</td>\n",
       "      <td>HANG</td>\n",
       "      <td>SINGULAR</td>\n",
       "      <td>SINGULAR</td>\n",
       "      <td>AERÓDROMO</td>\n",
       "      <td>1</td>\n",
       "      <td>4</td>\n",
       "      <td>2.2000</td>\n",
       "    </tr>\n",
       "    <tr>\n",
       "      <th>955</th>\n",
       "      <td>956</td>\n",
       "      <td>SINGU</td>\n",
       "      <td>SINGULAR</td>\n",
       "      <td>SINGULAR</td>\n",
       "      <td>SINGULAR</td>\n",
       "      <td>0</td>\n",
       "      <td>0</td>\n",
       "      <td>0.0000</td>\n",
       "    </tr>\n",
       "    <tr>\n",
       "      <th>956</th>\n",
       "      <td>957</td>\n",
       "      <td>ANTEN</td>\n",
       "      <td>INSTALACION</td>\n",
       "      <td>INSTALACION</td>\n",
       "      <td>ANTENA</td>\n",
       "      <td>0</td>\n",
       "      <td>0</td>\n",
       "      <td>0.0000</td>\n",
       "    </tr>\n",
       "    <tr>\n",
       "      <th>957</th>\n",
       "      <td>958</td>\n",
       "      <td>5623</td>\n",
       "      <td>ESPECTÁCULOS</td>\n",
       "      <td>CINES Y TEATROS</td>\n",
       "      <td>TEATROS</td>\n",
       "      <td>3</td>\n",
       "      <td>6</td>\n",
       "      <td>2.1500</td>\n",
       "    </tr>\n",
       "    <tr>\n",
       "      <th>958</th>\n",
       "      <td>959</td>\n",
       "      <td>PABRI</td>\n",
       "      <td>INDUSTRIAL</td>\n",
       "      <td>INDUSTRIAL</td>\n",
       "      <td>INDUSTRIAL</td>\n",
       "      <td>0</td>\n",
       "      <td>0</td>\n",
       "      <td>0.0000</td>\n",
       "    </tr>\n",
       "  </tbody>\n",
       "</table>\n",
       "<p>959 rows × 8 columns</p>\n",
       "</div>"
      ],
      "text/plain": [
       "     id14105 tip_105          uso1         tipolog1             tipolog2  \\\n",
       "0          1    0111   RESIDENCIAL    PLURIFAMILIAR  EDIFICACIÓN ABIERTA   \n",
       "1          2   0111A   RESIDENCIAL    PLURIFAMILIAR  EDIFICACIÓN ABIERTA   \n",
       "2          3   0111B   RESIDENCIAL    PLURIFAMILIAR  EDIFICACIÓN ABIERTA   \n",
       "3          4   0111C   RESIDENCIAL    PLURIFAMILIAR  EDIFICACIÓN ABIERTA   \n",
       "4          5   01111   RESIDENCIAL    PLURIFAMILIAR  EDIFICACIÓN ABIERTA   \n",
       "..       ...     ...           ...              ...                  ...   \n",
       "954      955    HANG      SINGULAR         SINGULAR            AERÓDROMO   \n",
       "955      956   SINGU      SINGULAR         SINGULAR             SINGULAR   \n",
       "956      957   ANTEN   INSTALACION      INSTALACION               ANTENA   \n",
       "957      958    5623  ESPECTÁCULOS  CINES Y TEATROS              TEATROS   \n",
       "958      959   PABRI    INDUSTRIAL       INDUSTRIAL           INDUSTRIAL   \n",
       "\n",
       "     categ  categ2    coef  \n",
       "0        4       7  1.0500  \n",
       "1        1       1  2.4750  \n",
       "2        1       2  2.1450  \n",
       "3        1       3  1.8975  \n",
       "4        1       4  1.6500  \n",
       "..     ...     ...     ...  \n",
       "954      1       4  2.2000  \n",
       "955      0       0  0.0000  \n",
       "956      0       0  0.0000  \n",
       "957      3       6  2.1500  \n",
       "958      0       0  0.0000  \n",
       "\n",
       "[959 rows x 8 columns]"
      ]
     },
     "execution_count": 19,
     "metadata": {},
     "output_type": "execute_result"
    }
   ],
   "source": [
    "sql = 'select * from cod.t14_105'\n",
    "\n",
    "# cursor.execute(sql)\n",
    "# print(cursor.fetchmany(size=3))\n",
    "\n",
    "# en Pandas\n",
    "df = pd.read_sql_query(sql, conexion)\n",
    "df"
   ]
  },
  {
   "cell_type": "markdown",
   "id": "000fc12a",
   "metadata": {
    "id": "000fc12a"
   },
   "source": [
    "# 6. Importación a Base de Datos de la estructura CAT."
   ]
  },
  {
   "cell_type": "markdown",
   "id": "7NAbzGGXGbWl",
   "metadata": {
    "id": "7NAbzGGXGbWl"
   },
   "source": [
    "Comenzamos a procesar el fichero CAT<br>\n",
    "Se trata de un fichero comprimido en formato  `.gz`, codificado en `latin1`.<br>\n",
    "\n",
    "+ Se define la ruta completa del archivo comprimido `.gz`.\n",
    "\n",
    "+ Utilizamos la función `gzip.open()` para abrir el archivo comprimido en modo de lectura de texto `rt`con codificación `latin1`.\n",
    "\n",
    "+ Lee el contenido del archivo línea por línea y se almacena en la variable `lineas`. Cada línea del archivo `.gz` se convierte en un elemento de la lista `lineas`.<br>\n",
    "\n",
    "\n",
    "+ **LA \"LAVADORA\".**\n",
    "\n",
    "  - Se define una lista llamada `caracteres` que contiene aquellos que debemos reemplazar del archivo. Son debidos a ***errores humanos*** en la transcripción a formulario de los datos catastrales.\n",
    "\n",
    "  - Con un bucle anidado recorremos todas las líneas en la lista y reemplazamos los caracteres anteriores.\n",
    "\n",
    "+ Por último generamos un DataFrame llamado `data_cat` utilizando las líneas procesadas, y creando una única columna llamada '`id`' que contiene el contenido de cada línea. (1.000 caracteres)"
   ]
  },
  {
   "cell_type": "code",
   "execution_count": 20,
   "id": "8dce4410",
   "metadata": {
    "id": "8dce4410"
   },
   "outputs": [],
   "source": [
    "# tiempo en ejecutar la celda en tiempo transcurrido y tiempo de CPU.\n",
    "# %%time\n",
    "\n",
    "# Tratamiento del archivo .gz\n",
    "\n",
    "# Ruta del archivo comprimido utilizando las variables definidas\n",
    "cat_gz = ruta + archivo_gz\n",
    "\n",
    "# lee el archivo gz\n",
    "with gzip.open(cat_gz, 'rt', encoding='latin1') as fichero_in:\n",
    "    # Leer todas las líneas del archivo gz en una lista\n",
    "    lineas = fichero_in.readlines()\n",
    "\n",
    "# La Lavadora\n",
    "caracteres = [\"'\", '\"', '\\\\', '/', ',', '!', '?' , '#', '$', '%', '&', '*', ':',\n",
    "       ';', '=', '@', '[', ']', '^', '_', '`', '{', '|', '}', '~', '>', '<','\\t']\n",
    "\n",
    "# Reemplazar caracteres en cada línea individualmente\n",
    "for i in range(len(lineas)):\n",
    "    for char in caracteres:\n",
    "        if char == ',':\n",
    "            lineas[i] = lineas[i].replace(char, '.')\n",
    "        else:\n",
    "            lineas[i] = lineas[i].replace(char, ' ')\n",
    "\n",
    "# generamos el dataframe a partir de la lista\n",
    "data_cat = pd.DataFrame({'id': lineas})"
   ]
  },
  {
   "cell_type": "markdown",
   "id": "vkfnP4XALDDK",
   "metadata": {
    "id": "vkfnP4XALDDK"
   },
   "source": [
    "Definimos la función `try_convert_to_int`.<br>\n",
    "La función tiene como objetivo **convertir una cadena que representa un número entero en un entero**.<br>\n",
    "Si la conversión falla, debido a una cadena vacía u otro valor no válido, devolverá `None`.<br>\n",
    "Aplicaremos esta función a las columnas que podrían contener cadenas vacías antes de la conversión, evitando errores y manejando de manera adecuada los casos en los que los datos no son válidos."
   ]
  },
  {
   "cell_type": "code",
   "execution_count": 21,
   "id": "204470c1",
   "metadata": {
    "id": "204470c1"
   },
   "outputs": [],
   "source": [
    "# Convertir columnas con manejo de cadenas vacías\n",
    "def try_convert_to_int(value):\n",
    "    try:\n",
    "        return int(value)\n",
    "    except ValueError:\n",
    "        return None"
   ]
  },
  {
   "cell_type": "markdown",
   "id": "ZH6M-OuaNJxv",
   "metadata": {
    "id": "ZH6M-OuaNJxv"
   },
   "source": [
    " A partir del DataFrame `data_cat`:<br>\n",
    " Generamos mediante extracción de subcadenas y conversiones de la cadena alfanumérica `id`  (aplicación de la función `try_convert_to_int`, y el borrado de caracteres con `.strip()` ), los nuevos DataFrames `df_t15`, `df_t14`, `df_t13`, `df_t11`."
   ]
  },
  {
   "cell_type": "markdown",
   "id": "ESFdTaUpMX88",
   "metadata": {
    "id": "ESFdTaUpMX88"
   },
   "source": [
    "## 6.1. Creación del DataFrame `df_t15`. Bienes Inmuebles."
   ]
  },
  {
   "cell_type": "markdown",
   "id": "b1839a7a",
   "metadata": {
    "id": "iir7UIDds4uy"
   },
   "source": [
    "Se muestra en la tabla los fragmentos a extraer y su significado:\n",
    "\n",
    "|codigo|tipo|inicio|final|descripción\n",
    "| :- | :------------- | :------------- | :------------- | :------------- |\n",
    "|**`tipo_29`**|character|28|30|Clase del Bien inmueble (UR, RU, BI) \n",
    "|**`pc_31`**|character|30|44|Parcela catastral. \n",
    "|**`car_45`**|character|44|48|Número secuencial del bien inmueble \n",
    "|**`cc1_49`**|character|48|49|Primer carácter de control \n",
    "|**`cc2_50`**|character|49|50|Segundo carácter de control \n",
    "|**`nfbi_51`**|integer|50|58|Número fijo del Bien Inmueble \n",
    "|**`nfv_74`**|varchar|73|92|Número de finca registral, incluyendo registro de la propiedad \n",
    "|**`es_250`**|varchar|249|251|Escalera \n",
    "|**`pt_252`**|varchar|251|254|Planta \n",
    "|**`pu_255`**|varchar|254|257|Puerta \n",
    "|**`noe_368`**|varchar|367|371|Número de orden del inmueble en la escritura de división horizontal \n",
    "|**`ant_372`**|smallint|371|375|Año de antigüedad del bien inmueble \n",
    "|**`coduso_428`**|character|427|428|Usos \n",
    "|**`sfc_442`**|integer|441|451|Superficie oficial del bien inmueble \n",
    "|**`sfs_452`**|integer|451|461|Superficie asociada al inmueble \n",
    "|**`cpt_462`**|integer|461|470|Coeficiente de propiedad respecto a la finca "
   ]
  },
  {
   "cell_type": "code",
   "execution_count": 22,
   "id": "8ea4b4d3",
   "metadata": {
    "id": "8ea4b4d3"
   },
   "outputs": [],
   "source": [
    "# Dataframe t15 de Bienes Inmuebles\n",
    "#  independiente de cat y no como una vista\n",
    "\n",
    "# Filtrar las filas de 'cat' que comienza con '15'\n",
    "df_t15 = data_cat [data_cat['id'].str.startswith('15')].copy()\n",
    "\n",
    "# Aplicar las extracciones y conversiones\n",
    "df_t15.loc[:, 'tipo_29'] = df_t15['id'].str[28:30]\n",
    "df_t15.loc[:, 'pc_31'] = df_t15['id'].str[30:44]\n",
    "df_t15.loc[:, 'car_45'] = df_t15['id'].str[44:48]\n",
    "df_t15.loc[:, 'cc1_49'] = df_t15['id'].str[48:49]\n",
    "df_t15.loc[:, 'cc2_50'] = df_t15['id'].str[49:50]\n",
    "df_t15.loc[:, 'nfbi_51'] = df_t15['id'].str[50:58].apply(try_convert_to_int)\n",
    "df_t15.loc[:, 'nfv_74'] = df_t15['id'].str[73:92].str.strip()\n",
    "df_t15.loc[:, 'es_250'] = df_t15['id'].str[249:251].str.strip()\n",
    "df_t15.loc[:, 'pt_252'] = df_t15['id'].str[251:254].str.strip()\n",
    "df_t15.loc[:, 'pu_255'] = df_t15['id'].str[254:257].str.strip()\n",
    "df_t15.loc[:, 'noe_368'] = df_t15['id'].str[367:371].str.strip()\n",
    "df_t15.loc[:, 'ant_372'] = df_t15['id'].str[371:375].apply(try_convert_to_int)\n",
    "df_t15.loc[:, 'coduso_428'] = df_t15['id'].str[427:428].str.strip()\n",
    "df_t15.loc[:, 'sfc_442'] = df_t15['id'].str[441:451].apply(try_convert_to_int)\n",
    "df_t15.loc[:, 'sfs_452'] = df_t15['id'].str[451:461].apply(try_convert_to_int)\n",
    "df_t15.loc[:, 'cpt_462'] = df_t15['id'].str[461:470].apply(try_convert_to_int)\n",
    "\n",
    "# Filtrar y actualizar los valores\n",
    "df_t15.loc[df_t15['ant_372'] <= 0, 'ant_372'] = None\n",
    "df_t15.loc[df_t15['ant_372'] > current_year, 'ant_372'] = None\n",
    "\n",
    "# Eliminar el campo 'id'\n",
    "df_t15 = df_t15.drop(columns=['id'])"
   ]
  },
  {
   "cell_type": "markdown",
   "id": "Mumdl-dWXuSJ",
   "metadata": {
    "id": "Mumdl-dWXuSJ"
   },
   "source": [
    "## 6.2. Creación del DataFrame `df_t14`. Construcciones (Recintos de uso) de los B.I."
   ]
  },
  {
   "cell_type": "markdown",
   "id": "hntAhEYps2Xj",
   "metadata": {
    "id": "hntAhEYps2Xj"
   },
   "source": [
    "Se muestra en la tabla los fragmentos a extraer y su significado:\n",
    "\n",
    "|codigo|tipo|inicio|final|descripción\n",
    "| :- | :------------- | :------------- | :------------- | :------------- |\n",
    "|**`pc_31`**|character|30|44|Parcela catastral\n",
    "|**`noec_45`**|character|44|48|Número de orden del elemento de construcción\n",
    "|**`nobf_51`**|character|50|54|Número de orden del bien inmueble fiscal\n",
    "|**`cuc_55`**|character|54|58|Código de la Unidad Constructiva a la que está asociado el local.\n",
    "|**`es_63`**|varchar|62|64|Escalera\n",
    "|**`pt_65`**|varchar|64|67|Planta\n",
    "|**`pu_68`**|varchar|67|70|Puerta\n",
    "|**`cd_71`**|varchar|70|73|Código de Destino. Descripción de la Actividad\n",
    "|**`tr_74`**|character|73|74|Indicador del tipo de reforma o rehabilitación,\n",
    "|**`ar_75`**|smallint|74|78|Año de reforma\n",
    "|**`aec_79`**|smallint|78|82|Año de antigüedad efectiva en Catastro\n",
    "|**`ili_83`**|character|82|83|Indicador de local interior\n",
    "|**`stl_84`**|integer|83|90|Superficie total del local a efectos de catastro\n",
    "|**`spt_91`**|integer|90|97|Superficie de porches y terrazas del local\n",
    "|**`sil_98`**|integer|97|104|Superficie imputable al local situada en otras plantas\n",
    "|**`tip_105`**|character|104|109|Tipología constructiva\n",
    "|**`modl_112`**|character|111|114|Código de Modalidad de Reparto"
   ]
  },
  {
   "cell_type": "code",
   "execution_count": 23,
   "id": "cb14b62c",
   "metadata": {
    "id": "cb14b62c"
   },
   "outputs": [],
   "source": [
    "# Dataframe t14 de Construcciones (locales)\n",
    "# lo genero como un dataframe independiente de cat\n",
    "\n",
    "# Filtrar las filas de 'cat' que comienzan con '14'\n",
    "df_t14 = data_cat[data_cat['id'].str.startswith('14')].copy()\n",
    "\n",
    "# Aplicar las extracciones y conversiones\n",
    "df_t14.loc[:, 'pc_31'] = df_t14['id'].str[30:44]\n",
    "df_t14.loc[:, 'noec_45'] = df_t14['id'].str[44:48]\n",
    "df_t14.loc[:, 'nobf_51'] = df_t14['id'].str[50:54]\n",
    "df_t14.loc[:, 'cuc_55'] = df_t14['id'].str[54:58].str.strip()\n",
    "df_t14.loc[:, 'es_63'] = df_t14['id'].str[62:64].str.strip()\n",
    "df_t14.loc[:, 'pt_65'] = df_t14['id'].str[64:67].str.strip()\n",
    "df_t14.loc[:, 'pu_68'] = df_t14['id'].str[67:70].str.strip()\n",
    "df_t14.loc[:, 'cd_71'] = df_t14['id'].str[70:73].str.strip()\n",
    "df_t14.loc[:, 'tr_74'] = df_t14['id'].str[73:74].str.strip()\n",
    "df_t14.loc[:, 'ar_75'] = df_t14['id'].str[74:78].apply(try_convert_to_int)\n",
    "df_t14.loc[:, 'aec_79'] = df_t14['id'].str[78:82].apply(try_convert_to_int)\n",
    "df_t14.loc[:, 'ili_83'] = df_t14['id'].str[82:83].str.strip()\n",
    "df_t14.loc[:, 'stl_84'] = df_t14['id'].str[83:90].apply(try_convert_to_int)\n",
    "df_t14.loc[:, 'spt_91'] = df_t14['id'].str[90:97].apply(try_convert_to_int)\n",
    "df_t14.loc[:, 'sil_98'] = df_t14['id'].str[97:104].apply(try_convert_to_int)\n",
    "df_t14.loc[:, 'tip_105'] = df_t14['id'].str[104:109].str.strip()\n",
    "df_t14.loc[:, 'modl_112'] = df_t14['id'].str[111:114].str.strip()\n",
    "\n",
    "\n",
    "# Filtrar y actualizar los valores\n",
    "df_t14.loc[df_t14['aec_79'] <= 0, 'aec_79'] = None\n",
    "df_t14.loc[df_t14['aec_79'] > current_year, 'aec_79'] = None\n",
    "\n",
    "# Eliminar la columna 'id'\n",
    "df_t14 = df_t14.drop(columns=['id'])"
   ]
  },
  {
   "cell_type": "markdown",
   "id": "q9MVNOtfYnKO",
   "metadata": {
    "id": "q9MVNOtfYnKO"
   },
   "source": [
    "## 6.3. Creación del DataFrame `df_t13`. Unidades Constructivas de los B.I."
   ]
  },
  {
   "cell_type": "markdown",
   "id": "KssBtF_AkXrL",
   "metadata": {
    "id": "KssBtF_AkXrL"
   },
   "source": [
    "Se muestra en la tabla los fragmentos a extraer y su significado:\n",
    "\n",
    "|codigo|tipo|inicio|final|descripción\n",
    "| :- | :------------- | :------------- | :------------- | :------------- |\n",
    "|**`pc_31`**|character|30|44|Parcela catastral.\n",
    "|**`cn_29`**|character|28|30|Clase de la Unidad Constructiva (UR, RU, BI)\n",
    "|**`cuc_45`**|character|44|48|Código de la unidad Constructiva.\n",
    "|**`ac_296`**|smallint|295|299|Año de la construcción (formato (AAAA))\n",
    "|**`iacons_300`**|character|299|309|Indicador de exactitud del año de construcción\n",
    "|**`so_301`**|integer|308|315|Superficie de suelo ocupada por la Unidad Constructiva en m2\n",
    "|**`lf_308`**|integer|409|413|Longitud de fachada (en cm)\n",
    "|**`cucm_410`**|varchar|409|413|Código de la Unidad Constructiva Matriz"
   ]
  },
  {
   "cell_type": "code",
   "execution_count": 24,
   "id": "3495ef49",
   "metadata": {
    "id": "3495ef49"
   },
   "outputs": [],
   "source": [
    "# Dataframe t13 de Unidades Constructivas\n",
    "# lo genero como un dataframe independiente de cat\n",
    "\n",
    "# Filtrar las filas de 'cat' que comienzan con '13'\n",
    "df_t13 = data_cat[data_cat['id'].str.startswith('13')].copy()\n",
    "\n",
    "# Aplicar las extracciones y conversiones\n",
    "df_t13.loc[:, 'pc_31'] = df_t13['id'].str[30:44]\n",
    "df_t13.loc[:, 'cn_29'] = df_t13['id'].str[28:30]\n",
    "df_t13.loc[:, 'cuc_45'] = df_t13['id'].str[44:48].str.strip()\n",
    "df_t13.loc[:, 'ac_296'] = df_t13['id'].str[295:299].apply(try_convert_to_int)\n",
    "df_t13.loc[:, 'iacons_300'] = df_t13['id'].str[299:309].str.strip()\n",
    "df_t13.loc[:, 'so_301'] = df_t13['id'].str[308:315].apply(try_convert_to_int)\n",
    "df_t13.loc[:, 'lf_308'] = df_t13['id'].str[409:413].apply(try_convert_to_int)\n",
    "df_t13.loc[:, 'cucm_410'] = df_t13['id'].str[409:413].str.strip()\n",
    "\n",
    "# Eliminar la columna 'id'\n",
    "df_t13 = df_t13.drop(columns=['id'])"
   ]
  },
  {
   "cell_type": "markdown",
   "id": "hljV6FlcY1Oo",
   "metadata": {
    "id": "hljV6FlcY1Oo"
   },
   "source": [
    "## 6.4. Creación del DataFrame `df_t11`. Fincas / Parcelas."
   ]
  },
  {
   "cell_type": "markdown",
   "id": "iir7UIDds4uy",
   "metadata": {
    "id": "iir7UIDds4uy"
   },
   "source": [
    "Se muestra en la tabla los fragmentos a extraer y su significado:\n",
    "\n",
    "|codigo|tipo|inicio|final|descripción\n",
    "| :- | :------------- | :------------- | :------------- | :------------- |\n",
    "|**`pc_31`**|character|30|44|Parcela catastral\n",
    "|**`cp_51`**|character|50|52|Código de Provincia (INE)\n",
    "|**`np_53`**|varchar|52|77|Nombre Provincia\n",
    "|**`mc_81`**|character|80|83|Código de Municipio (INE)\n",
    "|**`nm_84`**|varchar|83|123|Nombre del Municipio\n",
    "|**`nem_124`**|varchar|123|153|Nombre de la entidad menor, en caso de existir\n",
    "|**`cv_154`**|integer|153|158|Código de vía pública\n",
    "|**`tv_159`**|varchar|158|163|Tipo de vía o sigla pública\n",
    "|**`nv_164`**|varchar|163|188|Nombre de la vía pública\n",
    "|**`pnp_189`**|smallint|188|192|Primer número de policía\n",
    "|**`plp_193`**|character|192|193|Primera letra\n",
    "|**`snp_194`**|smallint|193|197|Segundo número de policía\n",
    "|**`slp_198`**|character|197|198|Segunda letra\n",
    "|**`km_199`**|integer|198|203|Kilómetro\n",
    "|**`bl_204`**|varchar|203|207|Bloque\n",
    "|**`p_241`**|integer|240|245|Código postal\n",
    "|**`cpo_253`**|smallint|252|255|Código de polígono rústico\n",
    "|**`cpa_256`**|smallint|255|260|Código de parcela\n",
    "|**`cpaj_261`**|character|260|265|Código del paraje\n",
    "|**`npa_266`**|varchar|265|295|Nombre del paraje\n",
    "|**`sup_296`**|integer|295|305|Superficie de la finca o parcela catastral (en m2).\n",
    "|**`sct_306`**|integer|305|312|Superficie construida total\n",
    "|**`ssr_313`**|integer|312|319|Superficie construida sobre rasante\n",
    "|**`sbr_320`**|integer|319|326|Superficie construida bajo rasante\n",
    "|**`sc_327`**|integer|326|333|Superficie cubierta"
   ]
  },
  {
   "cell_type": "code",
   "execution_count": 25,
   "id": "6ab6b0b5",
   "metadata": {
    "id": "6ab6b0b5"
   },
   "outputs": [],
   "source": [
    "# Dataframe t11 de Fincas / Parcelas\n",
    "# lo genero como un dataframe independiente de cat\n",
    "\n",
    "# Filtrar las filas de 'cat' que comienzan con '11'\n",
    "df_t11 = data_cat[data_cat['id'].str.startswith('11')].copy()\n",
    "\n",
    "# Aplicar las extracciones y conversiones con manejo de cadenas vacías\n",
    "df_t11.loc[:, 'pc_31'] = df_t11['id'].str[30:44]\n",
    "df_t11.loc[:, 'cp_51'] = df_t11['id'].str[50:52].apply(try_convert_to_int)\n",
    "df_t11.loc[:, 'np_53'] = df_t11['id'].str[52:77].str.strip()\n",
    "df_t11.loc[:, 'mc_81'] = df_t11['id'].str[80:83].str.strip()\n",
    "df_t11.loc[:, 'nm_84'] = df_t11['id'].str[83:123].str.strip()\n",
    "df_t11.loc[:, 'nem_124'] = df_t11['id'].str[123:153].str.strip()\n",
    "df_t11.loc[:, 'cv_154'] = df_t11['id'].str[153:158].apply(try_convert_to_int)\n",
    "df_t11.loc[:, 'tv_159'] = df_t11['id'].str[158:163].str.strip()\n",
    "df_t11.loc[:, 'nv_164'] = df_t11['id'].str[163:188].str.strip()\n",
    "df_t11.loc[:, 'pnp_189'] = df_t11['id'].str[188:192].apply(try_convert_to_int)\n",
    "df_t11.loc[:, 'plp_193'] = df_t11['id'].str[192:193].str.strip()\n",
    "df_t11.loc[:, 'snp_194'] = df_t11['id'].str[193:197].apply(try_convert_to_int)\n",
    "df_t11.loc[:, 'slp_198'] = df_t11['id'].str[197:198].str.strip()\n",
    "df_t11.loc[:, 'km_199'] = df_t11['id'].str[198:203].apply(try_convert_to_int)\n",
    "df_t11.loc[:, 'bl_204'] = df_t11['id'].str[203:207].str.strip()\n",
    "df_t11.loc[:, 'p_241'] = df_t11['id'].str[240:245]\n",
    "df_t11.loc[:, 'cpo_253'] = df_t11['id'].str[252:255].apply(try_convert_to_int)\n",
    "df_t11.loc[:, 'cpa_256'] = df_t11['id'].str[255:260].apply(try_convert_to_int)\n",
    "df_t11.loc[:, 'cpaj_261'] = df_t11['id'].str[260:265].str.strip()\n",
    "df_t11.loc[:, 'npa_266'] = df_t11['id'].str[265:295].str.strip()\n",
    "df_t11.loc[:, 'sup_296'] = df_t11['id'].str[295:305].apply(try_convert_to_int)\n",
    "df_t11.loc[:, 'sct_306'] = df_t11['id'].str[305:312].apply(try_convert_to_int)\n",
    "df_t11.loc[:, 'ssr_313'] = df_t11['id'].str[312:319].apply(try_convert_to_int)\n",
    "df_t11.loc[:, 'sbr_320'] = df_t11['id'].str[319:326].apply(try_convert_to_int)\n",
    "df_t11.loc[:, 'sc_327'] = df_t11['id'].str[326:333].apply(try_convert_to_int)\n",
    "\n",
    "# Eliminar la columna 'id' si es necesario\n",
    "df_t11 = df_t11.drop(columns=['id'])"
   ]
  },
  {
   "cell_type": "markdown",
   "id": "AwV3_AihZH3U",
   "metadata": {
    "id": "AwV3_AihZH3U"
   },
   "source": [
    "## 6.5. Carga de `df_t15`, `df_t14`, `df_t13` y `df_t11` a la Base de Datos."
   ]
  },
  {
   "cell_type": "markdown",
   "id": "J0kajxARtYgN",
   "metadata": {
    "id": "J0kajxARtYgN"
   },
   "source": [
    "Al trabajar con un solo municipio, borramos **campos redundantes** del DataFrame `df_t11`, los cuales se repiten en todas las filas, y consumen memoria.<br>\n",
    "\n",
    "Así mismo, eliminamos el DataFrame `data_cat` que ya no emplearemos más."
   ]
  },
  {
   "cell_type": "code",
   "execution_count": 26,
   "id": "aa1b7566",
   "metadata": {
    "id": "aa1b7566"
   },
   "outputs": [],
   "source": [
    "# BORRAR CAMPOS EN CASO DE USAR UN MUNICIPIO\n",
    "columnas_a_eliminar = ['cp_51', 'np_53', 'mc_81', 'nm_84']\n",
    "df_t11 = df_t11.drop(columnas_a_eliminar, axis=1)"
   ]
  },
  {
   "cell_type": "code",
   "execution_count": 27,
   "id": "855924ac",
   "metadata": {
    "id": "855924ac"
   },
   "outputs": [],
   "source": [
    "'''\n",
    "el DataFrame cat se eliminará de la memoria y ya no estará disponible en la sesión.\n",
    "'''\n",
    "del data_cat"
   ]
  },
  {
   "cell_type": "markdown",
   "id": "zho5V6e1uotT",
   "metadata": {
    "id": "zho5V6e1uotT"
   },
   "source": [
    "Establecemos una conexión a una base de datos PostgreSQL utilizando `SQLAlchemy`.<br>\n",
    "La cadena de conexión `conexion_ddbb` se configura con las credenciales de acceso, el servidor, la base de datos y el esquema deseados.\n",
    "Luego, creamos el objeto `engine` que representa dicha conexión."
   ]
  },
  {
   "cell_type": "code",
   "execution_count": 28,
   "id": "4f319004",
   "metadata": {
    "id": "4f319004"
   },
   "outputs": [],
   "source": [
    "# ENGINE\n",
    "# Define la cadena de conexión incluyendo el esquema deseado\n",
    "# Si no lo hago cargará la tabla en el esquema public\n",
    "conexion_ddbb = f'postgresql://{user}:{password}@{host}/{database}?options=-csearch_path%3D{municipio}'\n",
    "\n",
    "# Crea una conexión a la base de datos con la cadena de conexión\n",
    "engine = create_engine(conexion_ddbb)"
   ]
  },
  {
   "cell_type": "markdown",
   "id": "BmGi2NU0xI8n",
   "metadata": {
    "id": "BmGi2NU0xI8n"
   },
   "source": [
    "## 6.6. Carga de los datos de `df_t15` a tabla `t15` de PostgreSQL."
   ]
  },
  {
   "cell_type": "code",
   "execution_count": 29,
   "id": "4f3406d6",
   "metadata": {
    "id": "4f3406d6",
    "outputId": "6dd5ffee-4f41-4e28-f17e-7fe4b32073ac"
   },
   "outputs": [
    {
     "name": "stdout",
     "output_type": "stream",
     "text": [
      "Tabla 't15' cargada con éxito en el esquema 'cordoba'\n"
     ]
    }
   ],
   "source": [
    "# Dataframe t15 de Bienes Inmuebles\n",
    "\n",
    "try:\n",
    "    # Nombre de la tabla en la base de datos\n",
    "    nombre_tabla_t15 = 't15'\n",
    "\n",
    "    # Carga el DataFrame en la tabla SQL\n",
    "    df_t15.to_sql(nombre_tabla_t15, engine, if_exists='replace', index=False)\n",
    "\n",
    "    # Mensaje de éxito\n",
    "    print(f\"Tabla '{nombre_tabla_t15}' cargada con éxito en el esquema '{municipio}'\")\n",
    "\n",
    "except Exception as e:\n",
    "    # Mensaje de error en caso de excepción\n",
    "    print(f\"Error al cargar la tabla en el esquema '{municipio}': {str(e)}\")"
   ]
  },
  {
   "cell_type": "markdown",
   "id": "eO1fpiDSx0E4",
   "metadata": {
    "id": "eO1fpiDSx0E4"
   },
   "source": [
    "## 6.7. Carga de los datos de `df_t14` a tabla `t14` de PostgreSQL."
   ]
  },
  {
   "cell_type": "code",
   "execution_count": 30,
   "id": "4f42dca9",
   "metadata": {
    "id": "4f42dca9",
    "outputId": "42f8f5e3-5870-41ac-c2b9-f3b38b7322f4"
   },
   "outputs": [
    {
     "name": "stdout",
     "output_type": "stream",
     "text": [
      "Tabla 't14' con éxito en el esquema 'cordoba'\n"
     ]
    }
   ],
   "source": [
    "# Dataframe t14 de Construcciones (locales)\n",
    "\n",
    "try:\n",
    "    # Nombre de la tabla en la base de datos\n",
    "    nombre_tabla_t14 = 't14'\n",
    "\n",
    "    # Carga el DataFrame en la tabla SQL\n",
    "    df_t14.to_sql(nombre_tabla_t14, engine, if_exists='replace', index=False)\n",
    "\n",
    "    # Mensaje de éxito\n",
    "    print(f\"Tabla '{nombre_tabla_t14}' con éxito en el esquema '{municipio}'\")\n",
    "\n",
    "except Exception as e:\n",
    "    # Mensaje de error en caso de excepción\n",
    "    print(f\"Error al cargar la tabla en el esquema '{municipio}': {str(e)}\")"
   ]
  },
  {
   "cell_type": "markdown",
   "id": "IT4sRHu6x5zR",
   "metadata": {
    "id": "IT4sRHu6x5zR"
   },
   "source": [
    "## 6.8. Carga de los datos de `df_t13` a tabla `t13` de PostgreSQL."
   ]
  },
  {
   "cell_type": "code",
   "execution_count": 31,
   "id": "6e461432",
   "metadata": {
    "id": "6e461432",
    "outputId": "07c29d31-1daa-4b15-ccb6-28f1e96c65ee"
   },
   "outputs": [
    {
     "name": "stdout",
     "output_type": "stream",
     "text": [
      "Tabla 't13' con éxito en el esquema 'cordoba'\n"
     ]
    }
   ],
   "source": [
    "# Dataframe t13 de Unidades Constructivas\n",
    "\n",
    "try:\n",
    "    # Nombre de la tabla en la base de datos\n",
    "    nombre_tabla_t13 = 't13'\n",
    "\n",
    "    # Carga el DataFrame en la tabla SQL\n",
    "    df_t13.to_sql(nombre_tabla_t13, engine, if_exists='replace', index=False)\n",
    "\n",
    "    # Mensaje de éxito\n",
    "    print(f\"Tabla '{nombre_tabla_t13}' con éxito en el esquema '{municipio}'\")\n",
    "\n",
    "except Exception as e:\n",
    "    # Mensaje de error en caso de excepción\n",
    "    print(f\"Error al cargar la tabla en el esquema '{municipio}': {str(e)}\")"
   ]
  },
  {
   "cell_type": "markdown",
   "id": "6v46_h6SyMnv",
   "metadata": {
    "id": "6v46_h6SyMnv"
   },
   "source": [
    "## 6.9. Carga de los datos de `df_t11` a tabla `t11` de PostgreSQL."
   ]
  },
  {
   "cell_type": "code",
   "execution_count": 32,
   "id": "f840bb9d",
   "metadata": {
    "id": "f840bb9d",
    "outputId": "3b83c94b-0aef-46f6-9860-3bcb9280d0d2"
   },
   "outputs": [
    {
     "name": "stdout",
     "output_type": "stream",
     "text": [
      "Tabla 't11' con éxito en el esquema 'cordoba'\n"
     ]
    }
   ],
   "source": [
    "# Dataframe t11 de Fincas / Parcelas\n",
    "\n",
    "try:\n",
    "    # Nombre de la tabla en la base de datos\n",
    "    nombre_tabla_t11 = 't11'\n",
    "\n",
    "    # Carga el DataFrame en la tabla SQL\n",
    "    df_t11.to_sql(nombre_tabla_t11, engine, if_exists='replace', index=False)\n",
    "\n",
    "    # Mensaje de éxito\n",
    "    print(f\"Tabla '{nombre_tabla_t11}' con éxito en el esquema '{municipio}'\")\n",
    "\n",
    "except Exception as e:\n",
    "    # Mensaje de error en caso de excepción\n",
    "    print(f\"Error al cargar la tabla en el esquema '{municipio}': {str(e)}\")"
   ]
  },
  {
   "cell_type": "markdown",
   "id": "q6HPIQlmyRfW",
   "metadata": {
    "id": "q6HPIQlmyRfW"
   },
   "source": [
    "Eliminamos los DataFrames de la memoria, al no necesitarlos más en esta sesión."
   ]
  },
  {
   "cell_type": "code",
   "execution_count": 33,
   "id": "e48accc9",
   "metadata": {
    "id": "e48accc9"
   },
   "outputs": [],
   "source": [
    "'''\n",
    "los DataFrames se eliminarán de la memoria y ya no estarán disponibles en la sesión.\n",
    "'''\n",
    "del df_t15\n",
    "del df_t14\n",
    "del df_t13\n",
    "del df_t11"
   ]
  },
  {
   "cell_type": "markdown",
   "id": "VyOn5ggCyeUL",
   "metadata": {
    "id": "VyOn5ggCyeUL"
   },
   "source": [
    "Volvemos a comprobar que el proceso se ha realizado correctamente.\n"
   ]
  },
  {
   "cell_type": "markdown",
   "id": "wgvoVRGay_SJ",
   "metadata": {
    "id": "wgvoVRGay_SJ"
   },
   "source": [
    "Consultamos los datos de la tabla `t11` en la base de datos  y los cargamos en un DataFrame para su visualización."
   ]
  },
  {
   "cell_type": "code",
   "execution_count": null,
   "id": "a37bed8a",
   "metadata": {
    "id": "a37bed8a",
    "outputId": "2d01684b-9720-4eb7-bea3-f9e5ad1dc0af"
   },
   "outputs": [],
   "source": [
    "# prueba\n",
    "sql = f'SELECT * FROM {municipio}.{nombre_tabla_t11}'\n",
    "df = pd.read_sql_query(sql, conexion)\n",
    "df.head()"
   ]
  },
  {
   "cell_type": "markdown",
   "id": "be5d7c58",
   "metadata": {
    "id": "be5d7c58"
   },
   "source": [
    "# 7. Carga de la capa de geometría."
   ]
  },
  {
   "cell_type": "markdown",
   "id": "H7bFlySI2gta",
   "metadata": {
    "id": "H7bFlySI2gta"
   },
   "source": [
    "## 7.1. Comprobación del fichero `geo`.\n",
    "Cargamos el archivo de datos geoespaciales (en este caso un fichero `shapefile`), mediante las variables declaradas al principio del notebook, para generar un GeoDataFrame utilizando la biblioteca `GeoPandas`."
   ]
  },
  {
   "cell_type": "code",
   "execution_count": 34,
   "id": "bb9c61a5",
   "metadata": {
    "id": "bb9c61a5",
    "outputId": "200edc3a-c26d-4074-d434-acf032a1a575"
   },
   "outputs": [
    {
     "name": "stdout",
     "output_type": "stream",
     "text": [
      "El GeoDataFrame se ha creado correctamente.\n"
     ]
    },
    {
     "data": {
      "text/html": [
       "<div>\n",
       "<style scoped>\n",
       "    .dataframe tbody tr th:only-of-type {\n",
       "        vertical-align: middle;\n",
       "    }\n",
       "\n",
       "    .dataframe tbody tr th {\n",
       "        vertical-align: top;\n",
       "    }\n",
       "\n",
       "    .dataframe thead th {\n",
       "        text-align: right;\n",
       "    }\n",
       "</style>\n",
       "<table border=\"1\" class=\"dataframe\">\n",
       "  <thead>\n",
       "    <tr style=\"text-align: right;\">\n",
       "      <th></th>\n",
       "      <th>MAPA</th>\n",
       "      <th>DELEGACIO</th>\n",
       "      <th>MUNICIPIO</th>\n",
       "      <th>MASA</th>\n",
       "      <th>HOJA</th>\n",
       "      <th>TIPO</th>\n",
       "      <th>PARCELA</th>\n",
       "      <th>COORX</th>\n",
       "      <th>COORY</th>\n",
       "      <th>VIA</th>\n",
       "      <th>...</th>\n",
       "      <th>FECHAALTA</th>\n",
       "      <th>FECHABAJA</th>\n",
       "      <th>NINTERNO</th>\n",
       "      <th>PCAT1</th>\n",
       "      <th>PCAT2</th>\n",
       "      <th>EJERCICIO</th>\n",
       "      <th>NUM_EXP</th>\n",
       "      <th>CONTROL</th>\n",
       "      <th>REFCAT</th>\n",
       "      <th>geometry</th>\n",
       "    </tr>\n",
       "  </thead>\n",
       "  <tbody>\n",
       "    <tr>\n",
       "      <th>0</th>\n",
       "      <td>14009</td>\n",
       "      <td>14</td>\n",
       "      <td>900</td>\n",
       "      <td>51432</td>\n",
       "      <td>UG4954S</td>\n",
       "      <td>U</td>\n",
       "      <td>03</td>\n",
       "      <td>345026.37</td>\n",
       "      <td>4194096.63</td>\n",
       "      <td>1213</td>\n",
       "      <td>...</td>\n",
       "      <td>20131118</td>\n",
       "      <td>99999999</td>\n",
       "      <td>285857136.0</td>\n",
       "      <td>5143203</td>\n",
       "      <td>UG4954S</td>\n",
       "      <td>NaN</td>\n",
       "      <td>NaN</td>\n",
       "      <td>NaN</td>\n",
       "      <td>5143203UG4954S</td>\n",
       "      <td>POLYGON ((345004.500 4194123.590, 345030.560 4...</td>\n",
       "    </tr>\n",
       "    <tr>\n",
       "      <th>1</th>\n",
       "      <td>14009</td>\n",
       "      <td>14</td>\n",
       "      <td>900</td>\n",
       "      <td>51432</td>\n",
       "      <td>UG4954S</td>\n",
       "      <td>U</td>\n",
       "      <td>02</td>\n",
       "      <td>345002.08</td>\n",
       "      <td>4194118.69</td>\n",
       "      <td>1213</td>\n",
       "      <td>...</td>\n",
       "      <td>20131118</td>\n",
       "      <td>99999999</td>\n",
       "      <td>285857137.0</td>\n",
       "      <td>5143202</td>\n",
       "      <td>UG4954S</td>\n",
       "      <td>NaN</td>\n",
       "      <td>NaN</td>\n",
       "      <td>NaN</td>\n",
       "      <td>5143202UG4954S</td>\n",
       "      <td>POLYGON ((344996.377 4194108.524, 344996.206 4...</td>\n",
       "    </tr>\n",
       "    <tr>\n",
       "      <th>2</th>\n",
       "      <td>14009</td>\n",
       "      <td>14</td>\n",
       "      <td>900</td>\n",
       "      <td>51627</td>\n",
       "      <td>UG4956S</td>\n",
       "      <td>U</td>\n",
       "      <td>01</td>\n",
       "      <td>345065.70</td>\n",
       "      <td>4195990.54</td>\n",
       "      <td>942</td>\n",
       "      <td>...</td>\n",
       "      <td>20131125</td>\n",
       "      <td>99999999</td>\n",
       "      <td>286018016.0</td>\n",
       "      <td>5162701</td>\n",
       "      <td>UG4956S</td>\n",
       "      <td>NaN</td>\n",
       "      <td>NaN</td>\n",
       "      <td>NaN</td>\n",
       "      <td>5162701UG4956S</td>\n",
       "      <td>POLYGON ((345072.138 4196003.849, 345072.435 4...</td>\n",
       "    </tr>\n",
       "  </tbody>\n",
       "</table>\n",
       "<p>3 rows × 24 columns</p>\n",
       "</div>"
      ],
      "text/plain": [
       "    MAPA  DELEGACIO  MUNICIPIO   MASA     HOJA TIPO PARCELA      COORX  \\\n",
       "0  14009         14        900  51432  UG4954S    U      03  345026.37   \n",
       "1  14009         14        900  51432  UG4954S    U      02  345002.08   \n",
       "2  14009         14        900  51627  UG4956S    U      01  345065.70   \n",
       "\n",
       "        COORY   VIA  ...  FECHAALTA FECHABAJA     NINTERNO    PCAT1    PCAT2  \\\n",
       "0  4194096.63  1213  ...   20131118  99999999  285857136.0  5143203  UG4954S   \n",
       "1  4194118.69  1213  ...   20131118  99999999  285857137.0  5143202  UG4954S   \n",
       "2  4195990.54   942  ...   20131125  99999999  286018016.0  5162701  UG4956S   \n",
       "\n",
       "   EJERCICIO  NUM_EXP CONTROL          REFCAT  \\\n",
       "0        NaN      NaN     NaN  5143203UG4954S   \n",
       "1        NaN      NaN     NaN  5143202UG4954S   \n",
       "2        NaN      NaN     NaN  5162701UG4956S   \n",
       "\n",
       "                                            geometry  \n",
       "0  POLYGON ((345004.500 4194123.590, 345030.560 4...  \n",
       "1  POLYGON ((344996.377 4194108.524, 344996.206 4...  \n",
       "2  POLYGON ((345072.138 4196003.849, 345072.435 4...  \n",
       "\n",
       "[3 rows x 24 columns]"
      ]
     },
     "execution_count": 34,
     "metadata": {},
     "output_type": "execute_result"
    }
   ],
   "source": [
    "# Ruta del archivo comprimido utilizando las variables definidas\n",
    "ruta_geom_file = ruta_geom + archivo_geom\n",
    "\n",
    "# cargar el archivo y crear el DataFrame\n",
    "try:\n",
    "    geom_df = gpd.read_file(ruta_geom_file)\n",
    "\n",
    "    print(\"El GeoDataFrame se ha creado correctamente.\")\n",
    "\n",
    "except Exception as e:\n",
    "    print(f\"Error al crear el DataFrame: {str(e)}\")\n",
    "\n",
    "geom_df.head(3)"
   ]
  },
  {
   "cell_type": "markdown",
   "id": "l8L5b2Sv1iXe",
   "metadata": {
    "id": "l8L5b2Sv1iXe"
   },
   "source": [
    "Realizamos una **visualización** de los datos contenidos en el GeoDataFrame `geom_df`."
   ]
  },
  {
   "cell_type": "code",
   "execution_count": 35,
   "id": "7fb9a937",
   "metadata": {
    "id": "7fb9a937",
    "outputId": "8c02b970-21e9-42b4-8781-53da99896bee"
   },
   "outputs": [
    {
     "data": {
      "image/png": "[encoded data removed]",
      "text/plain": [
       "<Figure size 1200x800 with 1 Axes>"
      ]
     },
     "metadata": {},
     "output_type": "display_data"
    }
   ],
   "source": [
    "# Visualización de la capa\n",
    "fig, ax = plt.subplots(figsize=(12, 8))\n",
    "# Usar la función plot() de Geopandas para visualizar geom_df\n",
    "geom_df.plot(ax=ax, color='black', alpha=0.7)\n",
    "\n",
    "plt.show()"
   ]
  },
  {
   "cell_type": "markdown",
   "id": "HNgkYVJ_18CZ",
   "metadata": {
    "id": "HNgkYVJ_18CZ"
   },
   "source": [
    "Una vez comprobado que el archivo de datos `geo` se encuentra en correctas condiciones para su carga en la base de datos, lo borramos para liberar memoria."
   ]
  },
  {
   "cell_type": "code",
   "execution_count": 36,
   "id": "5d4b2c3f",
   "metadata": {
    "id": "5d4b2c3f"
   },
   "outputs": [],
   "source": [
    "del geom_df"
   ]
  },
  {
   "cell_type": "markdown",
   "id": "1wYDj4E62qc8",
   "metadata": {
    "id": "1wYDj4E62qc8"
   },
   "source": [
    "## 7.2. Carga de los datos geométricos en la geodatabase."
   ]
  },
  {
   "cell_type": "markdown",
   "id": "KouAyvR_3FBm",
   "metadata": {
    "id": "KouAyvR_3FBm"
   },
   "source": [
    "---\n",
    "<div class=\"alert alert-info\">\n",
    "    \n",
    "Se deben declarar las siguientes variables por el usuario:\n",
    "    \n",
    "+ **`tabla_geom`** : Nombre que se asigna a la tabla de PostgreSQL donde se cargarán los datos geo. Declarada anteriormente.\n",
    "\n",
    "+ **`srid_geometr`** : Código EPSG del sistema de referencia a emplear. En la mayor parte de España es **25830**  (ETRS89 UTM 30N)\n",
    "\n",
    "+ **`schema_geometr`** : Nombre que se asigna al esquema de PostgreSQL donde se cargarán los datos geo. Por defecto se emplea el definido por la variable `municipio`.\n",
    "\n",
    "+ **`tipo_geom`** : Tipo de geometría a cargar. `POLYGON`, `POINT`, `LINESTRING`, `GEOMETRYCOLLECTION`, etc\n",
    "</div>\n",
    "---"
   ]
  },
  {
   "cell_type": "code",
   "execution_count": 37,
   "id": "96b32c4a",
   "metadata": {
    "id": "96b32c4a"
   },
   "outputs": [],
   "source": [
    "# Variables a declarar\n",
    "# tabla_geom = 'parcel' # Nombre que queremos dar a la tabla\n",
    "srid_geometr = 25830  # Código EPSG para España\n",
    "schema_geometr = municipio  # Usando tu variable 'municipio' como el esquema\n",
    "tipo_geom = 'POLYGON'  # Tipo de geometría"
   ]
  },
  {
   "cell_type": "markdown",
   "id": "LIima9eaDP2U",
   "metadata": {
    "id": "LIima9eaDP2U"
   },
   "source": [
    "Utilizando **`shp2pgsql`** de PostGIS, cargamos el fichero en la base de datos.<br>\n",
    "Para obtener más información consultar el siguiente\n",
    "[Enlace de uso de shp2pgsql](https://stackoverflow.com/questions/22392466/python-scripts-to-ingest-a-shapefile-into-a-postgresql-postgis-database-utilizin)"
   ]
  },
  {
   "cell_type": "code",
   "execution_count": 38,
   "id": "073e96fd",
   "metadata": {
    "id": "073e96fd"
   },
   "outputs": [],
   "source": [
    "import os\n",
    "import subprocess\n",
    "\n",
    "# Agregar la ruta de la carpeta bin de PostgreSQL al PATH\n",
    "os.environ['PATH'] += os.pathsep + pg_bin_path\n",
    "\n",
    "# Configurar las variables de entorno de PostgreSQL\n",
    "os.environ['PGHOST'] = host\n",
    "os.environ['PGPORT'] = str(pgport)  # Convertir pgport a una cadena antes de asignarlo\n",
    "os.environ['PGUSER'] = user\n",
    "os.environ['PGPASSWORD'] = password\n",
    "os.environ['PGDATABASE'] = database\n",
    "\n",
    "# Obtener la lista de archivos Shapefile en la carpeta\n",
    "shapefile_list = []\n",
    "for root, dirs, files in os.walk(ruta_geom):\n",
    "    for file_ in files:\n",
    "        if file_[-4:].lower() == '.shp':\n",
    "            shapefile_path = os.path.join(root, file_)\n",
    "            shapefile_list.append(shapefile_path)\n",
    "\n",
    "# Iterar sobre los archivos Shapefile y ejecutar shp2pgsql con índice\n",
    "for shapefile_path in shapefile_list:\n",
    "    table_name = tabla_geom  # Asignar el valor de tabla_geom\n",
    "    shp2pgsql_cmd = f'shp2pgsql -I -s {srid_geometr} \"{shapefile_path}\" {schema_geometr}.{table_name} | psql'\n",
    "    subprocess.call(shp2pgsql_cmd, shell=True)"
   ]
  },
  {
   "cell_type": "markdown",
   "id": "9cfa11be",
   "metadata": {},
   "source": [
    "Verificamos que la carga ha sido correcta."
   ]
  },
  {
   "cell_type": "code",
   "execution_count": 39,
   "id": "182a65d2",
   "metadata": {},
   "outputs": [
    {
     "name": "stdout",
     "output_type": "stream",
     "text": [
      "   gid   mapa  delegacio  municipio   masa     hoja tipo parcela      coorx  \\\n",
      "0    1  14009         14        900  51432  UG4954S    U      03  345026.37   \n",
      "1    2  14009         14        900  51432  UG4954S    U      02  345002.08   \n",
      "2    3  14009         14        900  51627  UG4956S    U      01  345065.70   \n",
      "\n",
      "        coory  ...  fechaalta  fechabaja   ninterno    pcat1    pcat2  \\\n",
      "0  4194096.63  ...   20131118   99999999  285857136  5143203  UG4954S   \n",
      "1  4194118.69  ...   20131118   99999999  285857137  5143202  UG4954S   \n",
      "2  4195990.54  ...   20131125   99999999  286018016  5162701  UG4956S   \n",
      "\n",
      "   ejercicio  num_exp control          refcat  \\\n",
      "0       None     None    None  5143203UG4954S   \n",
      "1       None     None    None  5143202UG4954S   \n",
      "2       None     None    None  5162701UG4956S   \n",
      "\n",
      "                                                geom  \n",
      "0  0106000020E66400000100000001030000000100000012...  \n",
      "1  0106000020E66400000100000001030000000100000007...  \n",
      "2  0106000020E66400000100000001030000000100000017...  \n",
      "\n",
      "[3 rows x 25 columns]\n",
      "La tabla parcel se creó con éxito en el esquema cordoba\n"
     ]
    }
   ],
   "source": [
    "try:\n",
    "    # Consulta SQL comprobación de la carga\n",
    "    sql = f'SELECT * FROM {municipio}.{tabla_geom};'\n",
    "\n",
    "    # Ejecutar la consulta para copiar los datos\n",
    "    cursor.execute(sql)\n",
    "\n",
    "    # Obtener los resultados de la consulta y convertirlos a un DataFrame\n",
    "    resultados = cursor.fetchall()\n",
    "    df_resultados = pd.DataFrame(resultados, columns=[desc[0] for desc in cursor.description])\n",
    "\n",
    "    # Mostrar el contenido del DataFrame\n",
    "    print(df_resultados.head(3))\n",
    "\n",
    "    # Confirmar los cambios\n",
    "    conexion.commit()\n",
    "\n",
    "    print(f\"La tabla {tabla_geom} se creó con éxito en el esquema {municipio}\")\n",
    "\n",
    "except (Exception, psycopg2.Error) as error:\n",
    "    print(f\"Error al copiar los datos a la tabla {tabla_geom}':\", error)"
   ]
  },
  {
   "cell_type": "markdown",
   "id": "kcDjM162EbWC",
   "metadata": {
    "id": "kcDjM162EbWC"
   },
   "source": [
    "Es necesario para finalizar el proceso ***ETL de extracción, transformación y carga***, cerrar todas las conexiones abiertas con la base de datos."
   ]
  },
  {
   "cell_type": "code",
   "execution_count": 40,
   "id": "37d17fe5",
   "metadata": {
    "id": "37d17fe5",
    "outputId": "8c0b787d-2627-4095-9513-c217757fb0b7"
   },
   "outputs": [],
   "source": [
    "# Cerrar conexion a database con psycopg2\n",
    "conexion.commit()\n",
    "cursor.close()\n",
    "conexion.close()\n",
    "\n",
    "# Cerrar conexion a database con sqlalchemy\n",
    "engine.dispose()"
   ]
  }
 ],
 "metadata": {
  "colab": {
   "provenance": [],
   "toc_visible": true
  },
  "kernelspec": {
   "display_name": "Python 3 (ipykernel)",
   "language": "python",
   "name": "python3"
  },
  "language_info": {
   "codemirror_mode": {
    "name": "ipython",
    "version": 3
   },
   "file_extension": ".py",
   "mimetype": "text/x-python",
   "name": "python",
   "nbconvert_exporter": "python",
   "pygments_lexer": "ipython3",
   "version": "3.10.10"
  },
  "toc": {
   "base_numbering": 1,
   "nav_menu": {
    "height": "547px",
    "width": "583px"
   },
   "number_sections": true,
   "sideBar": true,
   "skip_h1_title": false,
   "title_cell": "Table of Contents",
   "title_sidebar": "Contents",
   "toc_cell": false,
   "toc_position": {
    "height": "calc(100% - 180px)",
    "left": "10px",
    "top": "150px",
    "width": "246px"
   },
   "toc_section_display": true,
   "toc_window_display": false
  }
 },
 "nbformat": 4,
 "nbformat_minor": 5
}
